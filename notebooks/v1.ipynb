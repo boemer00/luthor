{
 "cells": [
  {
   "cell_type": "markdown",
   "metadata": {},
   "source": [
    "# Imports"
   ]
  },
  {
   "cell_type": "code",
   "execution_count": 6,
   "metadata": {},
   "outputs": [],
   "source": [
    "import os\n",
    "import fitz\n",
    "from openai import OpenAI\n",
    "from dotenv import load_dotenv"
   ]
  },
  {
   "cell_type": "code",
   "execution_count": 7,
   "metadata": {},
   "outputs": [],
   "source": [
    "import os\n",
    "from openai import OpenAI\n",
    "from dotenv import load_dotenv\n",
    "\n",
    "load_dotenv()\n",
    "\n",
    "client = OpenAI(\n",
    "    api_key=os.environ.get(\"OPENAI_API_KEY\"),\n",
    ")\n",
    "\n",
    "model = \"gpt-4o-mini\""
   ]
  },
  {
   "cell_type": "code",
   "execution_count": 8,
   "metadata": {},
   "outputs": [],
   "source": [
    "file_path = '/Users/renatoboemer/code/developer/luthor/data/Memo 2  - Crypto assets disposal - FINISHED .docx'"
   ]
  },
  {
   "cell_type": "markdown",
   "metadata": {},
   "source": [
    "# Data processing"
   ]
  },
  {
   "cell_type": "markdown",
   "metadata": {},
   "source": [
    "## Load"
   ]
  },
  {
   "cell_type": "code",
   "execution_count": 9,
   "metadata": {},
   "outputs": [],
   "source": [
    "import os\n",
    "import fitz\n",
    "from docx import Document\n",
    "\n",
    "def read_file(file_path):\n",
    "    # Check if file exists\n",
    "    if not os.path.isfile(file_path):\n",
    "        raise FileNotFoundError(f\"The file {file_path} does not exist.\")\n",
    "    \n",
    "    # Get the file extension\n",
    "    _, file_extension = os.path.splitext(file_path)\n",
    "\n",
    "    # Handle .txt files\n",
    "    if file_extension.lower() == '.txt':\n",
    "        return read_txt(file_path)\n",
    "\n",
    "    # Handle .docx files\n",
    "    elif file_extension.lower() == '.docx':\n",
    "        return read_docx(file_path)\n",
    "\n",
    "    # Handle .pdf files\n",
    "    elif file_extension.lower() == '.pdf':\n",
    "        return read_pdf(file_path)\n",
    "\n",
    "    else:\n",
    "        raise ValueError(f\"Unsupported file extension: {file_extension}\")"
   ]
  },
  {
   "cell_type": "code",
   "execution_count": 10,
   "metadata": {},
   "outputs": [],
   "source": [
    "def read_txt(file_path):\n",
    "    with open(file_path, 'r', encoding='utf-8') as file:\n",
    "        return file.read()\n",
    "\n",
    "def read_docx(file_path):\n",
    "    document = Document(file_path)\n",
    "    full_text = []\n",
    "    for paragraph in document.paragraphs:\n",
    "        full_text.append(paragraph.text)\n",
    "    return '\\n'.join(full_text)\n",
    "\n",
    "\n",
    "def read_pdf(file_path):\n",
    "    document = fitz.open(file_path)\n",
    "    all_text = []\n",
    "    for page in document:\n",
    "        text = page.get_text()\n",
    "        all_text.append(text)\n",
    "    return '\\n'.join(all_text)"
   ]
  },
  {
   "cell_type": "code",
   "execution_count": 11,
   "metadata": {},
   "outputs": [
    {
     "name": "stdout",
     "output_type": "stream",
     "text": [
      "Input:\n",
      "I would like to seek expert advice regarding our company's upcoming transaction involving the disposal of cryptocurrency assets. Specifically, we are planning to sell a substantial amount of Ethereum (ETH) and convert it into stablecoins due to market volatility. Please highlight the tax implications of that. Do we need to formalise the sale\n"
     ]
    }
   ],
   "source": [
    "text = read_file(file_path)\n",
    "print(text[:350])"
   ]
  },
  {
   "cell_type": "markdown",
   "metadata": {},
   "source": [
    "## Process"
   ]
  },
  {
   "cell_type": "code",
   "execution_count": 12,
   "metadata": {},
   "outputs": [],
   "source": [
    "import re\n",
    "\n",
    "def text_segmentation(text):\n",
    "    \"\"\"\n",
    "    Split text into smaller, manageable chunks (e.g., paragraphs).\n",
    "\n",
    "    Args:\n",
    "        text (str): The full text to be segmented.\n",
    "\n",
    "    Returns:\n",
    "        List[str]: A list of segmented text chunks.\n",
    "    \"\"\"\n",
    "    # Split text by double newlines or similar paragraph markers\n",
    "    segments = re.split(r'\\n\\s*\\n', text)\n",
    "    \n",
    "    return segments"
   ]
  },
  {
   "cell_type": "code",
   "execution_count": 4,
   "metadata": {},
   "outputs": [],
   "source": [
    "# import numpy as np\n",
    "# from transformers import AutoTokenizer, AutoModelForTokenClassification, pipeline\n",
    "\n",
    "# # Load the tokenizer and model for NER\n",
    "# tokenizer = AutoTokenizer.from_pretrained(\"dslim/bert-base-NER\")\n",
    "# model = AutoModelForTokenClassification.from_pretrained(\"dbmdz/bert-large-cased-finetuned-conll03-english\")\n",
    "\n",
    "# # Create a pipeline for NER\n",
    "# ner_pipeline = pipeline(\"ner\", model=model, tokenizer=tokenizer)\n",
    "\n",
    "# # Example text for NER\n",
    "# example = \"Hugging Face was founded in 2016 by French entrepreneurs Clément Delangue, Julien Chaumond, and Thomas Wolf in New York City.\"\n",
    "\n",
    "# # Run the NER pipeline on the example text\n",
    "# ner_results = ner_pipeline(example)\n",
    "# print(ner_results)\n"
   ]
  },
  {
   "cell_type": "code",
   "execution_count": 5,
   "metadata": {},
   "outputs": [],
   "source": [
    "# organized_results = {'LOC': [], 'PER': [], 'ORG': [], 'MISC': []}\n",
    "\n",
    "# current_entity = None\n",
    "# current_words = []\n",
    "\n",
    "# for result in ner_results:\n",
    "#     entity_type = result['entity'].split('-')[1]\n",
    "#     if result['entity'].startswith('B-'):\n",
    "#         if current_entity:\n",
    "#             organized_results[current_entity].append(' '.join(current_words))\n",
    "#         current_entity = entity_type\n",
    "#         current_words = [result['word']]\n",
    "#     elif result['entity'].startswith('I-') and current_entity == entity_type:\n",
    "#         current_words.append(result['word'])\n",
    "\n",
    "# # Handle the last entity\n",
    "# if current_entity:\n",
    "#     organized_results[current_entity].append(' '.join(current_words))\n",
    "\n",
    "# # Remove hash symbols from words\n",
    "# for key, value in organized_results.items():\n",
    "#     organized_results[key] = [' '.join(word.split('##')) for word in value]\n",
    "\n",
    "# print(organized_results)"
   ]
  },
  {
   "cell_type": "code",
   "execution_count": 13,
   "metadata": {},
   "outputs": [],
   "source": [
    "def tokenize_text(text):\n",
    "    \"\"\"\n",
    "    Tokenize the text into words.\n",
    "\n",
    "    Args:\n",
    "        text (str): The text to be tokenized.\n",
    "\n",
    "    Returns:\n",
    "        List[str]: A list of tokens (words).\n",
    "    \"\"\"\n",
    "    # Use simple regex to split words; nlp(text) can be used for more advanced tokenization\n",
    "    tokens = re.findall(r'\\b\\w+\\b', text)\n",
    "    \n",
    "    return tokens"
   ]
  },
  {
   "cell_type": "code",
   "execution_count": 14,
   "metadata": {},
   "outputs": [],
   "source": [
    "def clean_special_characters(text):\n",
    "    \"\"\"\n",
    "    Clean up non-informative special characters or artifacts.\n",
    "\n",
    "    Args:\n",
    "        text (str): The text from which to remove special characters.\n",
    "\n",
    "    Returns:\n",
    "        str: Cleaned text with unnecessary special characters removed.\n",
    "    \"\"\"\n",
    "    # Remove characters not usually found in legal texts\n",
    "    cleaned_text = re.sub(r'[^\\w\\s,.!?;:()-]', '', text)\n",
    "    \n",
    "    return cleaned_text"
   ]
  },
  {
   "cell_type": "code",
   "execution_count": 15,
   "metadata": {},
   "outputs": [],
   "source": [
    "def preserve_structure(text):\n",
    "    \"\"\"\n",
    "    Maintain the document's structural elements, such as headings.\n",
    "\n",
    "    Args:\n",
    "        text (str): The text to process for structural preservation.\n",
    "\n",
    "    Returns:\n",
    "        str: Text with preserved structure for headings and sections.\n",
    "    \"\"\"\n",
    "    # This can involve wrapping or tagging headings, using markdown for sections\n",
    "    structured_text = text\n",
    "    \n",
    "    # Example: Keep lines starting with capital words as headings\n",
    "    structured_text = re.sub(r'(?m)^(?=[A-Z])(.+)$', r'## \\1', structured_text)\n",
    "    \n",
    "    return structured_text"
   ]
  },
  {
   "cell_type": "code",
   "execution_count": 16,
   "metadata": {},
   "outputs": [],
   "source": [
    "def preprocess_doc(file_path):\n",
    "    \"\"\"\n",
    "    Preprocess a legal document by executing a series of text processing steps.\n",
    "\n",
    "    Args:\n",
    "        file_path (str): The path to the legal document text file.\n",
    "\n",
    "    Returns:\n",
    "        Tuple: A tuple containing:\n",
    "            - Original text (str)\n",
    "            - Segmented text chunks (List[str])\n",
    "            - Cleaned text (str)\n",
    "            - Named entities and their types (List[Tuple[str, str]])\n",
    "            - Tokenized words (List[str])\n",
    "            - Structured text (str)\n",
    "    \"\"\"\n",
    "    # Load text from the file\n",
    "    text = read_file(file_path)\n",
    "\n",
    "    # Split text into segments (paragraphs)\n",
    "    segments = text_segmentation(text)\n",
    "\n",
    "    # Clean up non-informative special characters\n",
    "    cleaned_text = clean_special_characters(text)\n",
    "\n",
    "    # Tokenize the text into words\n",
    "    tokens = tokenize_text(text)\n",
    "\n",
    "    # Preserve structural elements, e.g., headings\n",
    "    structured_text = preserve_structure(text)\n",
    "\n",
    "    return text, segments, cleaned_text, tokens, structured_text\n"
   ]
  },
  {
   "cell_type": "code",
   "execution_count": 20,
   "metadata": {},
   "outputs": [
    {
     "name": "stdout",
     "output_type": "stream",
     "text": [
      "Original Text: Input:\n",
      "I would like to seek expert advice regarding our company's upcoming transaction involving the disposal of cryptocurrency assets. Specifically, we are planning to sell a substantial amount of Et ...\n",
      "---------------------------------------------------------------------------\n",
      "Segments: [\"Input:\\nI would like to seek expert advice regarding our company's upcoming transaction involving the disposal of cryptocurrency assets. Specifically, we are planning to sell a substantial amount of Ethereum (ETH) and convert it into stablecoins due to market volatility. Please highlight the tax implications of that. Do we need to formalise the sale of ETH with a formal agreement?\\nFollow up question: What is the volume of the transactions?\\nFollow up question: What is the date of the transactions\\nFollow up question: What was the price of purchased ETH?/ What was the value of ETH expressed in stablecoin?\\nFollow up question: What is the stablecoin pegged to? \\nFollow up question: Has this transaction will happen between dependent or independent parties?\\nFollow up question: When is the transaction planned for?\\nFollow up question: Is trading crypto the company’s primary activity?\\nInput: 300 ETH converted to Tether, which is pegged to USD, transaction needs to go through by 1 August 2024, independent parties. Trading crypto is the company’s primary activity.\\nOutput:\\nIntroduction\\nLaw Firm X has been engaged by the company AB to comment on the tax implications of the disposal of ETH under the UK law and is planned for 1 August 2024. The customer wants to dispose of 300 ETH by 1 August 2024.\\nFactual state\\nAlpha Beta Ltd (“AB”) wants to dispose of 300 ETH in exchange for Tether. This memorandum provides an overview of the applicable laws and guidance which can have impact on the transactions and AB should be aware of.\\nAnalysis\\nWhilst no specific tax legislation is in place regarding the taxation of cryptocurrencies, His Majesty’s Revenue and Customs (HMRC) issued Cryptoassets Manual (CM) on 30 March 2021, which provides guidance on how HMRC is going to treat a transaction by corporation or individuals in relation to cryptoassets. CM is not legally binding on taxpayers, however it indicates the position likely to be taken by the HMRC concerning the crypto assets and therefore compliance to its contents is recommended.\\nAs per CM, section CRYPTO41250:\\n“Companies need to calculate their gain or loss when they dispose of their tokens to find out whether they need to pay Corporation Tax. A ‘disposal’ is a broad concept and includes:\\n(a) selling tokens for money\\n(b) exchanging tokens for a different type of token\\n(c) using tokens to pay for goods or services\\n(d) giving away tokens to another person”\\nStablecoins are also considered tokens. As per CRYPTO10100, \\n“Stablecoins are another prominent type of cryptoasset. The premise is that these tokens minimise volatility as they may be pegged to something that is considered to have a stable value such as a fiat currency (government-backed, for example US dollars) or precious metals such as gold.”).\\nTaking into account the fact that Tether is a token, the aforementioned scenario constitutes point (b) of the quoted passage. \\nAs being the party that is disposing of the ETH, AB needs to determine if they will be recording a loss or gain on their books, which is dependent on the price that is determined as the acquisition price of the ETH (Fair Market Value expressed in Tether).\\nDetermining the gain/loss\\nAs mentioned above, an important part to consider is also whether the party disposing of assets is whether they have made a gain or a loss and what will be recorded on disposing party’s books.\\nThis will be determined once the transaction price is known by 1 August 2024. \\nAs the AB’s primary activity is trading cryptocurrency, the loss shall be recognised as an operating loss.\\nWritten contract of disposal\\nIn order to address the question whether there needs to be a written contract prepared to comply with UK law, we need to first understand what can be understood as a contract in a crypto transaction.\\nCM provides guidance within CRYPTO41260. The section says that: \", '“Tokens cannot simply be transferred from the distributed ledger for one cryptoasset to the distributed ledger for a different cryptoasset. For example, bitcoin cannot exist on the Ethereum blockchain. An effect comparable to a ‘swap’ can be achieved using a smart contract and secure public address. The holder of the tokens uses a smart contract to transfer tokens to a public address that they don’t control. An equivalent amount of tokens of the second cryptoasset are transferred from a secure public address to a public address controlled by the person.”\\nGiven the fact pattern that the client wants to swap ETH for Tether, this can be done using a smart contract. \\nThis is permitted by a document called “Legal statement on cryptoassets and smart contracts” (“Legal Statement”) published by UK Jurisdiction Taskforce (UKJT) which allows traditional contracts to be replaced by smart contracts if it is enabled by the protocol. Although Legal Statement is not formally a part of UK Law, it is “providing a foundation for the responsible future utilisation of cryptoassets and smart contracts” (as per Foreword of the Legal Statement prepared by Sir Geoffrey Vos, Chancellor of the High Court). \\nSections 18 and 19 of the Legal Statement describe the weight of a smart contract and make a comparison to traditional contract.\\n“18. There is a contract in English law when two or more parties have reached an agreement, intend to create a legal relationship by doing so, and have each given something of benefit. A smart contract is capable of satisfying those requirements just as well as a more traditional or natural language contract, and a smart contract is therefore capable of having contractual force. Whether the requirements are in fact met in any given case will depend on the parties’ words and conduct, just as it does with any other contract.\\n19. The parties’ contractual obligations may be defined by computer code (in which case there may be little room for “interpretation” in the traditional sense) or the code may merely implement an agreement whose meaning is to be found elsewhere (in which case the code is unimportant from the perspective of defining the agreement). Either way, however, in principle a smart contract can be identified, interpreted and enforced using ordinary and well-established legal principles.”\\nGiven the above it can be concluded that since the terms of the transaction are defined and confirmed  in the smart contract, there is no need for an additional traditional contract between the parties.\\nOne-way transfers\\nIt is also important to note that some transfers can only go in one direction, meaning that once the transfer has been made it cannot be undone or transferred back at a future date.\\nCM describes in CRYPTO41260 an example of such situation in case of ETH transactions: \\n“An example of this can be seen with the Ethereum blockchain. Currently ether are on the Ethereum ‘mainnet’ (short for main network, the main public Ethereum blockchain). Holders of ether can choose to transfer their tokens from the mainnet to a different blockchain called the ‘Beacon Chain’. The Beacon Chain blockchain is where Ethereum’s ‘Proof of Stake’ will be implemented (for more information on Proof of Stake see CRYPTO10300, /manual/cryptoassets-manual/crypto10300). It will be impossible to transfer ether from the Beacon Chain to the mainnet, making transfers a one-way process only.”\\nGiven that the client is considering a disposal of ETH, it is something worth remembering that given the technical capabilities of the network, the transaction cannot be reversed.', '']\n",
      "---------------------------------------------------------------------------\n",
      "Cleaned Text: Input:\n",
      "I would like to seek expert advice regarding our companys upcoming transaction involving the disposal of cryptocurrency assets. Specifically, we are planning to sell a substantial amount of Eth ...\n",
      "---------------------------------------------------------------------------\n",
      "Tokens: ['Input', 'I', 'would', 'like', 'to', 'seek', 'expert', 'advice', 'regarding', 'our']\n",
      "---------------------------------------------------------------------------\n",
      "Structured Text: ## Input:\n",
      "## I would like to seek expert advice regarding our company's upcoming transaction involving the disposal of cryptocurrency assets. Specifically, we are planning to sell a substantial amount ...\n"
     ]
    }
   ],
   "source": [
    "# Example usage\n",
    "original_text, segments, cleaned_text, tokens, structured_text = preprocess_doc(file_path)\n",
    "\n",
    "print(\"Original Text:\", original_text[:200], \"...\")\n",
    "print(\"---\" * 25)\n",
    "print(\"Segments:\", segments[:3])\n",
    "print(\"---\" * 25)\n",
    "print(\"Cleaned Text:\", cleaned_text[:200], \"...\")\n",
    "print(\"---\" * 25)\n",
    "print(\"Tokens:\", tokens[:10])\n",
    "print(\"---\" * 25)\n",
    "print(\"Structured Text:\", structured_text[:200], \"...\")"
   ]
  },
  {
   "cell_type": "markdown",
   "metadata": {},
   "source": [
    "## Embed"
   ]
  },
  {
   "cell_type": "code",
   "execution_count": null,
   "metadata": {},
   "outputs": [],
   "source": []
  },
  {
   "cell_type": "markdown",
   "metadata": {},
   "source": [
    "## Create a Search Index"
   ]
  },
  {
   "cell_type": "code",
   "execution_count": null,
   "metadata": {},
   "outputs": [],
   "source": []
  },
  {
   "cell_type": "markdown",
   "metadata": {},
   "source": [
    "## Query the System"
   ]
  },
  {
   "cell_type": "code",
   "execution_count": null,
   "metadata": {},
   "outputs": [],
   "source": []
  }
 ],
 "metadata": {
  "kernelspec": {
   "display_name": "Python 3 (ipykernel)",
   "language": "python",
   "name": "python3"
  },
  "language_info": {
   "codemirror_mode": {
    "name": "ipython",
    "version": 3
   },
   "file_extension": ".py",
   "mimetype": "text/x-python",
   "name": "python",
   "nbconvert_exporter": "python",
   "pygments_lexer": "ipython3",
   "version": "3.10.6"
  },
  "toc": {
   "base_numbering": 1,
   "nav_menu": {},
   "number_sections": true,
   "sideBar": true,
   "skip_h1_title": false,
   "title_cell": "Table of Contents",
   "title_sidebar": "Contents",
   "toc_cell": false,
   "toc_position": {},
   "toc_section_display": true,
   "toc_window_display": false
  }
 },
 "nbformat": 4,
 "nbformat_minor": 4
}
